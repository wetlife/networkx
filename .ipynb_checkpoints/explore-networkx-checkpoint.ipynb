{
 "cells": [
  {
   "cell_type": "code",
   "execution_count": 5,
   "metadata": {
    "collapsed": false,
    "scrolled": true
   },
   "outputs": [
    {
     "name": "stdout",
     "output_type": "stream",
     "text": [
      "np, plt, and nx have all been loaded\n",
      "numnodes:  16\n",
      "numedges:  44\n"
     ]
    }
   ],
   "source": [
    "%run explore-networkx.py\n",
    "G = nx.MultiDiGraph()\n",
    "# setup nodes first so that nodes may exist without connection\n",
    "numnodes = 16\n",
    "print \"numnodes: \", numnodes\n",
    "numedges = np.random.randint(numnodes,3*numnodes) \n",
    "print \"numedges: \", numedges\n",
    "lstAllEdgeTuples = [(i, j) for i in range(numnodes) for j in range(numnodes)]\n",
    "for nodeIndex in range(numnodes):\n",
    "    G.add_nodes_from([node for node in range(numnodes)])\n",
    "edgelist = []\n",
    "for k in range(numedges):\n",
    "    #- randomly create a list of tuples (here used to define edges)\n",
    "    edgeindex = np.random.choice(range(len(lstAllEdgeTuples)))\n",
    "    #print \"lstAllEdgeTuples[edgeindex]: \", lstAllEdgeTuples[edgeindex]\n",
    "    edgelist.append(lstAllEdgeTuples[edgeindex])\n",
    "G.add_edges_from(edgelist)\n",
    "plt.clf()\n",
    "nx.draw_networkx(G, pos=None, arrows=True)\n",
    "plt.savefig(\"plot.png\")\n",
    "nx.draw_circular(G)\n",
    "# [(G.predecessors(i), G.successors(i)) for i in range(numnodes)] # investigate structure of graph"
   ]
  },
  {
   "cell_type": "code",
   "execution_count": null,
   "metadata": {
    "collapsed": true
   },
   "outputs": [],
   "source": []
  }
 ],
 "metadata": {
  "kernelspec": {
   "display_name": "Python 2",
   "language": "python",
   "name": "python2"
  },
  "language_info": {
   "codemirror_mode": {
    "name": "ipython",
    "version": 2
   },
   "file_extension": ".py",
   "mimetype": "text/x-python",
   "name": "python",
   "nbconvert_exporter": "python",
   "pygments_lexer": "ipython2",
   "version": "2.7.10"
  }
 },
 "nbformat": 4,
 "nbformat_minor": 0
}
